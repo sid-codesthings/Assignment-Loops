{
 "cells": [
  {
   "cell_type": "code",
   "execution_count": 2,
   "id": "6ace9021-d84c-4374-b61b-ff3fe1f7820a",
   "metadata": {},
   "outputs": [
    {
     "name": "stdout",
     "output_type": "stream",
     "text": [
      "1 2 3 4 5 "
     ]
    }
   ],
   "source": [
    "# 1.Print numbers from 1 to 5 using a while loop.\n",
    "\n",
    "i = 1\n",
    "while i <= 5:\n",
    "    print(i,end=\" \")\n",
    "    i+=1"
   ]
  },
  {
   "cell_type": "code",
   "execution_count": 3,
   "id": "b3f9673f-c06a-46ae-b756-7226aaa8ed6f",
   "metadata": {},
   "outputs": [
    {
     "name": "stdout",
     "output_type": "stream",
     "text": [
      "55\n"
     ]
    }
   ],
   "source": [
    "# 2.Calculate the sum of numbers from 1 to 10 using a while loop.\n",
    "\n",
    "i = 1\n",
    "s = 0\n",
    "while i<=10:\n",
    "    s+=i\n",
    "    i+=1\n",
    "print(s)"
   ]
  },
  {
   "cell_type": "code",
   "execution_count": 4,
   "id": "b001ba3f-f1bd-4381-b7e0-29b14d730b4c",
   "metadata": {},
   "outputs": [
    {
     "name": "stdout",
     "output_type": "stream",
     "text": [
      "120\n"
     ]
    }
   ],
   "source": [
    "# 3.Calculate the factorial of a number using a for loop.\n",
    "\n",
    "n = 5\n",
    "f=1\n",
    "for i in range(1,n+1):\n",
    "    f = f*i\n",
    "print(f)"
   ]
  },
  {
   "cell_type": "code",
   "execution_count": 4,
   "id": "9a9e6989-ef1c-4946-ac52-070ef475a14d",
   "metadata": {},
   "outputs": [
    {
     "name": "stdout",
     "output_type": "stream",
     "text": [
      "5\n"
     ]
    }
   ],
   "source": [
    "# 4.Count the number of vowels in a string using a for loop.\n",
    "\n",
    "s = 'Australia'\n",
    "c = 0\n",
    "for i in s :\n",
    "    if(i == 'A' or i == 'E' or i == 'I' or i == 'O' or i == 'U' or\n",
    "       i == 'a' or i == 'e' or i == 'i' or i == 'o' or i == 'u'):\n",
    "            c +=1\n",
    "print(c)"
   ]
  },
  {
   "cell_type": "code",
   "execution_count": 12,
   "id": "84918f56-eea9-462c-90e7-d0d81e4144fe",
   "metadata": {},
   "outputs": [
    {
     "name": "stdout",
     "output_type": "stream",
     "text": [
      "* * * * \n",
      "* * * \n",
      "* * \n",
      "* \n"
     ]
    }
   ],
   "source": [
    "# 5.Print a pattern using nested loops.\n",
    "\n",
    "for i in range(4,0,-1):\n",
    "    for j in range(i):\n",
    "        print(\"*\",end=\" \")\n",
    "    print()"
   ]
  },
  {
   "cell_type": "code",
   "execution_count": 19,
   "id": "8eb971e0-eff2-47f5-a557-2cacad7b1954",
   "metadata": {},
   "outputs": [
    {
     "name": "stdout",
     "output_type": "stream",
     "text": [
      "4  x  1 \t= 4\n",
      "4  x  2 \t= 8\n",
      "4  x  3 \t= 12\n",
      "4  x  4 \t= 16\n",
      "4  x  5 \t= 20\n",
      "4  x  6 \t= 24\n",
      "4  x  7 \t= 28\n",
      "4  x  8 \t= 32\n",
      "4  x  9 \t= 36\n",
      "4  x  10 \t= 40\n"
     ]
    }
   ],
   "source": [
    "# 6. Generate a multiplication table using nested loops.\n",
    "\n",
    "n = 4\n",
    "for i in range(1,11):\n",
    "    print(n ,\" x \", i ,\"\\t=\" ,n*i) "
   ]
  },
  {
   "cell_type": "code",
   "execution_count": null,
   "id": "ccf09f79-651e-4039-96bd-c153c961b411",
   "metadata": {},
   "outputs": [],
   "source": []
  }
 ],
 "metadata": {
  "kernelspec": {
   "display_name": "Python 3 (ipykernel)",
   "language": "python",
   "name": "python3"
  },
  "language_info": {
   "codemirror_mode": {
    "name": "ipython",
    "version": 3
   },
   "file_extension": ".py",
   "mimetype": "text/x-python",
   "name": "python",
   "nbconvert_exporter": "python",
   "pygments_lexer": "ipython3",
   "version": "3.10.8"
  }
 },
 "nbformat": 4,
 "nbformat_minor": 5
}
